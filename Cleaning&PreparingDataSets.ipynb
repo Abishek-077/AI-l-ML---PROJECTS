{
  "nbformat": 4,
  "nbformat_minor": 0,
  "metadata": {
    "colab": {
      "provenance": [],
      "authorship_tag": "ABX9TyN1KBB6VQC0XwZAI7mLJe2G",
      "include_colab_link": true
    },
    "kernelspec": {
      "name": "python3",
      "display_name": "Python 3"
    },
    "language_info": {
      "name": "python"
    }
  },
  "cells": [
    {
      "cell_type": "markdown",
      "metadata": {
        "id": "view-in-github",
        "colab_type": "text"
      },
      "source": [
        "<a href=\"https://colab.research.google.com/github/Abishek-077/AI-l-ML---PROJECTS/blob/main/Cleaning%26PreparingDataSets.ipynb\" target=\"_parent\"><img src=\"https://colab.research.google.com/assets/colab-badge.svg\" alt=\"Open In Colab\"/></a>"
      ]
    },
    {
      "cell_type": "markdown",
      "source": [
        "CLeaning and Preparing the data"
      ],
      "metadata": {
        "id": "1rUai0z2zYTD"
      }
    },
    {
      "cell_type": "code",
      "execution_count": 3,
      "metadata": {
        "colab": {
          "base_uri": "https://localhost:8080/"
        },
        "id": "c_DoHGfXyi0-",
        "outputId": "0c41a3fe-f844-43ce-839a-aafa343729d4"
      },
      "outputs": [
        {
          "output_type": "stream",
          "name": "stdout",
          "text": [
            "<bound method NDFrame.head of         CRIM   ZN   INDUS   CHAS    NOX     RM   AGE     DIS  RAD  TAX  \\\n",
            "0    0.00632  18.0    2.31     0  0.538  6.575  65.2  4.0900    1  296   \n",
            "1    0.02731   0.0    7.07     0  0.469  6.421  78.9  4.9671    2  242   \n",
            "2    0.02729   0.0    7.07     0  0.469  7.185  61.1  4.9671    2  242   \n",
            "3    0.03237   0.0    2.18     0  0.458  6.998  45.8  6.0622    3  222   \n",
            "4    0.06905   0.0    2.18     0  0.458  7.147  54.2  6.0622    3  222   \n",
            "..       ...   ...     ...   ...    ...    ...   ...     ...  ...  ...   \n",
            "501  0.06263   0.0   11.93     0  0.573  6.593  69.1  2.4786    1  273   \n",
            "502  0.04527   0.0   11.93     0  0.573  6.120  76.7  2.2875    1  273   \n",
            "503  0.06076   0.0   11.93     0  0.573  6.976  91.0  2.1675    1  273   \n",
            "504  0.10959   0.0   11.93     0  0.573  6.794  89.3  2.3889    1  273   \n",
            "505  0.04741   0.0   11.93     0  0.573  6.030  80.8  2.5050    1  273   \n",
            "\n",
            "     PTRATIO  LSTAT  MEDV  \n",
            "0       15.3   4.98  24.0  \n",
            "1       17.8   9.14  21.6  \n",
            "2       17.8   4.03  34.7  \n",
            "3       18.7   2.94  33.4  \n",
            "4       18.7   5.33  36.2  \n",
            "..       ...    ...   ...  \n",
            "501     21.0   9.67  22.4  \n",
            "502     21.0   9.08  20.6  \n",
            "503     21.0   5.64  23.9  \n",
            "504     21.0   6.48  22.0  \n",
            "505     21.0   7.88  11.9  \n",
            "\n",
            "[506 rows x 13 columns]>\n",
            "<bound method DataFrame.info of         CRIM   ZN   INDUS   CHAS    NOX     RM   AGE     DIS  RAD  TAX  \\\n",
            "0    0.00632  18.0    2.31     0  0.538  6.575  65.2  4.0900    1  296   \n",
            "1    0.02731   0.0    7.07     0  0.469  6.421  78.9  4.9671    2  242   \n",
            "2    0.02729   0.0    7.07     0  0.469  7.185  61.1  4.9671    2  242   \n",
            "3    0.03237   0.0    2.18     0  0.458  6.998  45.8  6.0622    3  222   \n",
            "4    0.06905   0.0    2.18     0  0.458  7.147  54.2  6.0622    3  222   \n",
            "..       ...   ...     ...   ...    ...    ...   ...     ...  ...  ...   \n",
            "501  0.06263   0.0   11.93     0  0.573  6.593  69.1  2.4786    1  273   \n",
            "502  0.04527   0.0   11.93     0  0.573  6.120  76.7  2.2875    1  273   \n",
            "503  0.06076   0.0   11.93     0  0.573  6.976  91.0  2.1675    1  273   \n",
            "504  0.10959   0.0   11.93     0  0.573  6.794  89.3  2.3889    1  273   \n",
            "505  0.04741   0.0   11.93     0  0.573  6.030  80.8  2.5050    1  273   \n",
            "\n",
            "     PTRATIO  LSTAT  MEDV  \n",
            "0       15.3   4.98  24.0  \n",
            "1       17.8   9.14  21.6  \n",
            "2       17.8   4.03  34.7  \n",
            "3       18.7   2.94  33.4  \n",
            "4       18.7   5.33  36.2  \n",
            "..       ...    ...   ...  \n",
            "501     21.0   9.67  22.4  \n",
            "502     21.0   9.08  20.6  \n",
            "503     21.0   5.64  23.9  \n",
            "504     21.0   6.48  22.0  \n",
            "505     21.0   7.88  11.9  \n",
            "\n",
            "[506 rows x 13 columns]>\n"
          ]
        }
      ],
      "source": [
        "import pandas as pd\n",
        "\n",
        "df = pd.read_csv\\\n",
        "                ('https://raw.githubusercontent.com/'\\\n",
        "                 'PacktWorkshops/The-Data-Science-'\\\n",
        "                 'Workshop/master/Chapter02/'\\\n",
        "                 'Dataset/Boston.csv')\n",
        "print(df.head)\n",
        "print(df.info)\n",
        "\n",
        ""
      ]
    },
    {
      "cell_type": "markdown",
      "source": [
        "Checking The Missing Value"
      ],
      "metadata": {
        "id": "4ST4Q2hA0B0H"
      }
    },
    {
      "cell_type": "code",
      "source": [
        "print(df.isnull())"
      ],
      "metadata": {
        "colab": {
          "base_uri": "https://localhost:8080/"
        },
        "id": "OwzcWAB8zk_u",
        "outputId": "f42dd6ac-1779-4aba-a936-233a0cd4fbb9"
      },
      "execution_count": 5,
      "outputs": [
        {
          "output_type": "stream",
          "name": "stdout",
          "text": [
            "      CRIM    ZN   INDUS    CHAS    NOX     RM    AGE    DIS    RAD    TAX  \\\n",
            "0    False  False   False  False  False  False  False  False  False  False   \n",
            "1    False  False   False  False  False  False  False  False  False  False   \n",
            "2    False  False   False  False  False  False  False  False  False  False   \n",
            "3    False  False   False  False  False  False  False  False  False  False   \n",
            "4    False  False   False  False  False  False  False  False  False  False   \n",
            "..     ...    ...     ...    ...    ...    ...    ...    ...    ...    ...   \n",
            "501  False  False   False  False  False  False  False  False  False  False   \n",
            "502  False  False   False  False  False  False  False  False  False  False   \n",
            "503  False  False   False  False  False  False  False  False  False  False   \n",
            "504  False  False   False  False  False  False  False  False  False  False   \n",
            "505  False  False   False  False  False  False  False  False  False  False   \n",
            "\n",
            "     PTRATIO  LSTAT   MEDV  \n",
            "0      False  False  False  \n",
            "1      False  False  False  \n",
            "2      False  False  False  \n",
            "3      False  False  False  \n",
            "4      False  False  False  \n",
            "..       ...    ...    ...  \n",
            "501    False  False  False  \n",
            "502    False  False  False  \n",
            "503    False  False  False  \n",
            "504    False  False  False  \n",
            "505    False  False  False  \n",
            "\n",
            "[506 rows x 13 columns]\n"
          ]
        }
      ]
    },
    {
      "cell_type": "markdown",
      "source": [
        "Sumilate Messy Data & Clean it (Pro-Level-Practice)"
      ],
      "metadata": {
        "id": "kNkQS7oz1DfP"
      }
    },
    {
      "cell_type": "code",
      "source": [
        "import numpy as np\n",
        "# randomly set 20 values in 'AGE' and 'RM' to Nan\n",
        "df.loc[df.sample(30).index, 'AGE'] = np.nan\n",
        "df.loc[df.sample(30).index, 'RM'] = np.nan\n",
        "print(df.isnull().sum())\n"
      ],
      "metadata": {
        "colab": {
          "base_uri": "https://localhost:8080/"
        },
        "id": "Cp9QH3XK0U_s",
        "outputId": "b3337180-0a5e-4a70-ceb4-e4cb5c68e4d8"
      },
      "execution_count": 7,
      "outputs": [
        {
          "output_type": "stream",
          "name": "stdout",
          "text": [
            "CRIM        0\n",
            " ZN         0\n",
            "INDUS       0\n",
            "CHAS        0\n",
            "NOX         0\n",
            "RM         49\n",
            "AGE        48\n",
            "DIS         0\n",
            "RAD         0\n",
            "TAX         0\n",
            "PTRATIO     0\n",
            "LSTAT       0\n",
            "MEDV        0\n",
            "dtype: int64\n"
          ]
        }
      ]
    },
    {
      "cell_type": "markdown",
      "source": [
        "Step 3 : Clean it\n",
        "A.Fill Missing age with Median"
      ],
      "metadata": {
        "id": "mOGUvBOv2fs-"
      }
    },
    {
      "cell_type": "code",
      "source": [
        "df['AGE']=df['AGE'].fillna(df['AGE'].median())\n"
      ],
      "metadata": {
        "id": "pn4qtoSS2GCa"
      },
      "execution_count": 8,
      "outputs": []
    },
    {
      "cell_type": "markdown",
      "source": [
        "B. Drop Rows With Missing RM"
      ],
      "metadata": {
        "id": "pyaASRGs3ZR4"
      }
    },
    {
      "cell_type": "code",
      "source": [
        "df =df.dropna(subset=['RM'])\n"
      ],
      "metadata": {
        "id": "PTVtZfYs3Yro"
      },
      "execution_count": 9,
      "outputs": []
    },
    {
      "cell_type": "markdown",
      "source": [
        "Step 4: Remove Outliners(eg.LSTAT)"
      ],
      "metadata": {
        "id": "9VjlJTTJ3w6m"
      }
    },
    {
      "cell_type": "code",
      "source": [
        "Q1 = df['LSTAT'].quantile(0.25)\n",
        "Q3 = df['LSTAT'].quantile(0.75)\n",
        "IQR = Q3 - Q1\n",
        "# Its gets The Third Quartile\n",
        "# OR (Interqurtile)is the range of the middle 50% of the data"
      ],
      "metadata": {
        "id": "gZlVQ9X03v0B"
      },
      "execution_count": 10,
      "outputs": []
    },
    {
      "cell_type": "markdown",
      "source": [],
      "metadata": {
        "id": "aDDBcYng7TFK"
      }
    },
    {
      "cell_type": "code",
      "source": [
        "lower =Q1-1.5*IQR\n",
        "upper =Q3+1.5*IQR\n"
      ],
      "metadata": {
        "id": "FAT3YfDZ7FPk"
      },
      "execution_count": 11,
      "outputs": []
    },
    {
      "cell_type": "markdown",
      "source": [
        ". This Are Outilner Thresholds\n",
        ". Any data point below Lower or above is consider an outlier"
      ],
      "metadata": {
        "id": "THEf3jJj7Ww7"
      }
    },
    {
      "cell_type": "code",
      "source": [
        "df = df[(df['LSTAT']>=lower) & (df['LSTAT']<=upper)]"
      ],
      "metadata": {
        "id": "PHqeQojw7QJ2"
      },
      "execution_count": 12,
      "outputs": []
    },
    {
      "cell_type": "markdown",
      "source": [
        "Step 5: Standardize Columns"
      ],
      "metadata": {
        "id": "yfoewwByA11S"
      }
    },
    {
      "cell_type": "code",
      "source": [
        "df.columns = df.columns.str.lower()"
      ],
      "metadata": {
        "id": "9jjpkOL7A0Ul"
      },
      "execution_count": 13,
      "outputs": []
    },
    {
      "cell_type": "code",
      "source": [
        "import seaborn as sns\n",
        "import matplotlib.pyplot as plt\n",
        "\n",
        "sns.histplot(df['medv'],kde=True)\n",
        "plt.title('Distribution of Median Value')\n",
        "plt.show()"
      ],
      "metadata": {
        "colab": {
          "base_uri": "https://localhost:8080/",
          "height": 472
        },
        "id": "9vRrWCMDBEBm",
        "outputId": "111e3ac5-61c9-4e11-de76-f0e38a64bdc1"
      },
      "execution_count": 14,
      "outputs": [
        {
          "output_type": "display_data",
          "data": {
            "text/plain": [
              "<Figure size 640x480 with 1 Axes>"
            ],
            "image/png": "[encoded data removed]"
          },
          "metadata": {}
        }
      ]
    },
    {
      "cell_type": "code",
      "source": [],
      "metadata": {
        "id": "kIYxHffCB2RT"
      },
      "execution_count": null,
      "outputs": []
    }
  ]
}