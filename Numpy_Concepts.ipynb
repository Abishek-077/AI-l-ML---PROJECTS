{
  "nbformat": 4,
  "nbformat_minor": 0,
  "metadata": {
    "colab": {
      "provenance": [],
      "authorship_tag": "ABX9TyN7jdS6fOu5aF6ozML4e2iI",
      "include_colab_link": true
    },
    "kernelspec": {
      "name": "python3",
      "display_name": "Python 3"
    },
    "language_info": {
      "name": "python"
    }
  },
  "cells": [
    {
      "cell_type": "markdown",
      "metadata": {
        "id": "view-in-github",
        "colab_type": "text"
      },
      "source": [
        "<a href=\"https://colab.research.google.com/github/Abishek-077/AI-l-ML---PROJECTS/blob/main/Numpy_Concepts.ipynb\" target=\"_parent\"><img src=\"https://colab.research.google.com/assets/colab-badge.svg\" alt=\"Open In Colab\"/></a>"
      ]
    },
    {
      "cell_type": "markdown",
      "source": [
        "Basics\n"
      ],
      "metadata": {
        "id": "ln84nQVDylcZ"
      }
    },
    {
      "cell_type": "code",
      "source": [
        "import numpy as np\n",
        "\n",
        "# 1D array\n",
        "a = np.array([1, 2, 3])\n",
        "\n",
        "# 2D array\n",
        "b = np.array([[1, 2], [3, 4]])\n",
        "\n",
        "# 3D array\n",
        "c = np.array([[[1], [2]], [[3], [4]]])\n"
      ],
      "metadata": {
        "id": "WTYMgpY-ynyx"
      },
      "execution_count": null,
      "outputs": []
    },
    {
      "cell_type": "markdown",
      "source": [
        "2. Shape — .shape Attribute"
      ],
      "metadata": {
        "id": "8POiGHy_0dSk"
      }
    },
    {
      "cell_type": "code",
      "source": [
        "print(a.shape)  # (3,)     → 1D array with 3 elements\n",
        "print(b.shape)  # (2, 2)   → 2 rows, 2 columns\n",
        "print(c.shape)  # (2, 2, 1) → 3D array\n"
      ],
      "metadata": {
        "colab": {
          "base_uri": "https://localhost:8080/"
        },
        "id": "nkmA-Q4x0ewB",
        "outputId": "28605f6f-3bc8-4489-d861-5c86c35569a7"
      },
      "execution_count": null,
      "outputs": [
        {
          "output_type": "stream",
          "name": "stdout",
          "text": [
            "(3,)\n",
            "(2, 2)\n",
            "(2, 2, 1)\n"
          ]
        }
      ]
    },
    {
      "cell_type": "markdown",
      "source": [
        "3. Data Types — .dtype Attribute"
      ],
      "metadata": {
        "id": "zgjbjQJ81DS1"
      }
    },
    {
      "cell_type": "code",
      "source": [
        "x = np.array([1,2,4])\n",
        "print(x.dtype)\n",
        "\n",
        "y = np.array([1.0,2.0,3.0])\n",
        "print(y.dtype)\n",
        "\n",
        "z = np.array(['a','b','c'])\n",
        "print(z.dtype)\n",
        "\n",
        "# We can type data explecitly\n",
        "w = np.array([1,2,3],dtype='float32')"
      ],
      "metadata": {
        "colab": {
          "base_uri": "https://localhost:8080/"
        },
        "id": "QE484TTr1FcC",
        "outputId": "eb58e96b-3aae-4bf4-ed15-72af2d249c06"
      },
      "execution_count": null,
      "outputs": [
        {
          "output_type": "stream",
          "name": "stdout",
          "text": [
            "int64\n",
            "float64\n",
            "<U1\n"
          ]
        }
      ]
    },
    {
      "cell_type": "code",
      "source": [
        "arr = np.array([1,2,3,4,5,6,7,8,9])\n",
        "resize = arr.reshape(3,3)\n",
        "print(resize)\n",
        "reshaped = arr.reshape(3, -1)  # NumPy will figure out the number of columns (3 rows, automatically 2 columns)\n",
        "print(reshaped)\n"
      ],
      "metadata": {
        "colab": {
          "base_uri": "https://localhost:8080/"
        },
        "id": "l9-i9M4_1NRt",
        "outputId": "7cd47a44-6948-4c25-dec9-e634edf2bb4e"
      },
      "execution_count": null,
      "outputs": [
        {
          "output_type": "stream",
          "name": "stdout",
          "text": [
            "[[1 2 3]\n",
            " [4 5 6]\n",
            " [7 8 9]]\n",
            "[[1 2 3]\n",
            " [4 5 6]\n",
            " [7 8 9]]\n"
          ]
        }
      ]
    },
    {
      "cell_type": "markdown",
      "source": [
        "2. Transposing — transpose()"
      ],
      "metadata": {
        "id": "TAOf-ivm7xe3"
      }
    },
    {
      "cell_type": "code",
      "source": [
        "arr_2d =np.array([[1,2,3],[4,5,6]])\n",
        "transposed = arr_2d.transpose()\n",
        "print(transposed.shape)\n",
        "print (transposed)"
      ],
      "metadata": {
        "colab": {
          "base_uri": "https://localhost:8080/"
        },
        "id": "urxRn1so7z1W",
        "outputId": "278315e2-088b-4c15-f305-f44d74041213"
      },
      "execution_count": null,
      "outputs": [
        {
          "output_type": "stream",
          "name": "stdout",
          "text": [
            "(3, 2)\n",
            "[[1 4]\n",
            " [2 5]\n",
            " [3 6]]\n"
          ]
        }
      ]
    },
    {
      "cell_type": "code",
      "source": [
        "arr_3d =np.array([[[1,2],[3,4],[5,6],[7,8]]])\n",
        "transposed = arr_3d.transpose()\n",
        "print(transposed.shape)\n",
        "print (transposed)"
      ],
      "metadata": {
        "colab": {
          "base_uri": "https://localhost:8080/"
        },
        "id": "HdHlo08S8Yu4",
        "outputId": "87e8b27d-5bd7-44b9-c303-04d067953762"
      },
      "execution_count": null,
      "outputs": [
        {
          "output_type": "stream",
          "name": "stdout",
          "text": [
            "(2, 4, 1)\n",
            "[[[1]\n",
            "  [3]\n",
            "  [5]\n",
            "  [7]]\n",
            "\n",
            " [[2]\n",
            "  [4]\n",
            "  [6]\n",
            "  [8]]]\n"
          ]
        }
      ]
    },
    {
      "cell_type": "markdown",
      "source": [
        "Flattening Targets for Traning"
      ],
      "metadata": {
        "id": "ov1UZ9XU-wA7"
      }
    },
    {
      "cell_type": "code",
      "source": [
        "y =np.array([[[1],[0],[1],[1],[0]]])\n",
        "x = np.array([[[1,2],[3,4],[5,6],[7,8],[9,10]]])\n",
        "print(x.shape)\n",
        "print(y.shape)\n",
        "y_flattened = y.flatten()\n",
        "print(y_flattened)\n",
        "\n",
        "x_flattened = x.flatten()\n",
        "print(x_flattened)"
      ],
      "metadata": {
        "colab": {
          "base_uri": "https://localhost:8080/"
        },
        "id": "h3tjA65H-0Jb",
        "outputId": "960df140-ea4b-4dd6-975e-426838a67395"
      },
      "execution_count": null,
      "outputs": [
        {
          "output_type": "stream",
          "name": "stdout",
          "text": [
            "(1, 5, 2)\n",
            "(1, 5, 1)\n",
            "[1 0 1 1 0]\n",
            "[ 1  2  3  4  5  6  7  8  9 10]\n"
          ]
        }
      ]
    },
    {
      "cell_type": "markdown",
      "source": [
        "This reshaping and flattening are essential for passing data into models that require specific input formats (e.g., scikit-learn models).\n",
        "\n",
        "Summary:\n",
        "Reshape (reshape()) to change the shape of the array.\n",
        "\n",
        "Transpose (transpose()) to swap rows and columns (or more complex rearrangements for higher-dimensional arrays).\n",
        "\n",
        "Ravel (ravel()) to flatten the array into 1D."
      ],
      "metadata": {
        "id": "WQcesI2J_cpC"
      }
    },
    {
      "cell_type": "markdown",
      "source": [
        "5. Aggregation Functions\tsum(), mean(), std(), argmax()\tFeature engineering, analysis\n",
        "\n",
        "---\n",
        "\n"
      ],
      "metadata": {
        "id": "tWc8iZqkB1aW"
      }
    },
    {
      "cell_type": "code",
      "source": [
        "import numpy as np\n",
        "\n",
        "a = np.array([[1, 2, 3], [4, 5, 6]])\n",
        "print(np.sum(a))           # Sum of all elements → 21\n",
        "print(np.sum(a, axis=0))   # Column-wise sum → [5 7 9]\n",
        "print(np.sum(a, axis=1))   # Row-wise sum → [6 15]\n"
      ],
      "metadata": {
        "colab": {
          "base_uri": "https://localhost:8080/"
        },
        "id": "sFCjnsXz_pnS",
        "outputId": "381d55b8-9039-42c9-ce18-61a885e3a297"
      },
      "execution_count": null,
      "outputs": [
        {
          "output_type": "stream",
          "name": "stdout",
          "text": [
            "21\n",
            "[5 7 9]\n",
            "[ 6 15]\n"
          ]
        }
      ]
    },
    {
      "cell_type": "markdown",
      "source": [
        "mean() - Average of elements"
      ],
      "metadata": {
        "id": "tssyWp20C9Pf"
      }
    },
    {
      "cell_type": "code",
      "source": [
        "print(np.mean(a))\n",
        "print(np.mean(a,axis=0))"
      ],
      "metadata": {
        "colab": {
          "base_uri": "https://localhost:8080/"
        },
        "id": "iH4FsdC6DAue",
        "outputId": "2ebf15ab-c0a4-4d9f-8a33-aa062b1569c9"
      },
      "execution_count": null,
      "outputs": [
        {
          "output_type": "stream",
          "name": "stdout",
          "text": [
            "3.5\n",
            "[2.5 3.5 4.5]\n"
          ]
        }
      ]
    },
    {
      "cell_type": "markdown",
      "source": [
        "std() — Standard Deviation"
      ],
      "metadata": {
        "id": "U9MamehWDni7"
      }
    },
    {
      "cell_type": "code",
      "source": [
        "print(np.std(a))\n",
        "# help us find the dominatnt features\n",
        "print(np.argmax(a))"
      ],
      "metadata": {
        "colab": {
          "base_uri": "https://localhost:8080/"
        },
        "id": "_GBLJ-PYDo_W",
        "outputId": "69023790-ab7d-4571-c786-d4851f38e179"
      },
      "execution_count": null,
      "outputs": [
        {
          "output_type": "stream",
          "name": "stdout",
          "text": [
            "1.707825127659933\n",
            "5\n"
          ]
        }
      ]
    },
    {
      "cell_type": "markdown",
      "source": [
        "Quick Example of Normalizing the data"
      ],
      "metadata": {
        "id": "qU8UPmw3Eho9"
      }
    },
    {
      "cell_type": "code",
      "source": [
        "data = np.array([10,11,12,13,14,15])\n",
        "mean = np.mean(data)\n",
        "std= np.std(data)\n",
        "\n",
        "noramlization =(data-mean)/std\n",
        "print(noramlization)\n",
        "# we do it compress the the learning"
      ],
      "metadata": {
        "colab": {
          "base_uri": "https://localhost:8080/"
        },
        "id": "3LL11Ad5EkdC",
        "outputId": "f9603e3c-fa5d-4ee6-e1ea-734e46a7a961"
      },
      "execution_count": null,
      "outputs": [
        {
          "output_type": "stream",
          "name": "stdout",
          "text": [
            "[-1.46385011 -0.87831007 -0.29277002  0.29277002  0.87831007  1.46385011]\n"
          ]
        }
      ]
    },
    {
      "cell_type": "markdown",
      "source": [
        "Logical Operation And filtering in Numpy\n"
      ],
      "metadata": {
        "id": "vAN-jLejGTiY"
      }
    },
    {
      "cell_type": "code",
      "source": [
        "import numpy as np\n",
        "\n",
        "arr = np.array([1, 6, 8, 3, 2])\n",
        "\n",
        "# Logical condition\n",
        "mask = arr > 5  # [False, True, True, False, False]\n",
        "filtered = arr[mask]  # [6, 8]\n",
        "\n",
        "# np.where() - Gives indices where condition is True\n",
        "indices = np.where(arr > 5)  # (array([1, 2]),)\n",
        "\n",
        "# any() and all()\n",
        "print(np.any(arr > 5))  # True (at least one element > 5)\n",
        "print(np.all(arr > 5))  # False (not all elements > 5)\n"
      ],
      "metadata": {
        "colab": {
          "base_uri": "https://localhost:8080/"
        },
        "id": "jSJWvQGNGZIZ",
        "outputId": "0d713b7c-ba63-4503-c8f6-523042a55019"
      },
      "execution_count": null,
      "outputs": [
        {
          "output_type": "stream",
          "name": "stdout",
          "text": [
            "True\n",
            "False\n"
          ]
        }
      ]
    },
    {
      "cell_type": "markdown",
      "source": [
        "Random Module In NumPy"
      ],
      "metadata": {
        "id": "zQ6X5HQAGfP0"
      }
    },
    {
      "cell_type": "code",
      "source": [
        "np.random.rand(3); # folat number bet\n",
        "\n",
        "np.random.randn"
      ],
      "metadata": {
        "id": "XbsTRrEAGiBl"
      },
      "execution_count": null,
      "outputs": []
    },
    {
      "cell_type": "markdown",
      "source": [
        "2. What is Vectorization ?\n",
        "Vectorization means applying an operation on the whole array at once using optimized C under the hood (via NumPy)."
      ],
      "metadata": {
        "id": "CytlLtYIKPdO"
      }
    },
    {
      "cell_type": "code",
      "source": [
        "squares_vec = arr**2"
      ],
      "metadata": {
        "id": "jEpat551KU91"
      },
      "execution_count": null,
      "outputs": []
    },
    {
      "cell_type": "markdown",
      "source": [
        "Performance Comparision"
      ],
      "metadata": {
        "id": "TVO8e-24LYiB"
      }
    },
    {
      "cell_type": "code",
      "source": [
        "import time\n",
        "\n",
        "arr = np.arange(1_000_000)\n",
        "\n",
        "# For-loop timing\n",
        "start = time.time()\n",
        "squares = [i**2 for i in arr]\n",
        "print(\"For-loop time:\", time.time() - start)\n",
        "\n",
        "# Vectorized timing\n",
        "start = time.time()\n",
        "squares_vec = arr ** 2\n",
        "print(\"Vectorized time:\", time.time() - start)\n"
      ],
      "metadata": {
        "colab": {
          "base_uri": "https://localhost:8080/"
        },
        "id": "H8JLcYurLQa-",
        "outputId": "3b79e48c-70aa-4174-ad4f-aa1a8c2fab79"
      },
      "execution_count": null,
      "outputs": [
        {
          "output_type": "stream",
          "name": "stdout",
          "text": [
            "For-loop time: 0.14803719520568848\n",
            "Vectorized time: 0.012206315994262695\n"
          ]
        }
      ]
    },
    {
      "cell_type": "code",
      "source": [],
      "metadata": {
        "id": "4e86PjzfMjON"
      },
      "execution_count": null,
      "outputs": []
    }
  ]
}